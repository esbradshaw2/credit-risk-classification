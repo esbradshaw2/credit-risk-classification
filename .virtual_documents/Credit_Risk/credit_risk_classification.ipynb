# Import the modules
import numpy as np
import pandas as pd
from pathlib import Path
from sklearn.metrics import confusion_matrix, classification_report











# Read the CSV file from the Resources folder into a Pandas DataFrame
data = pd.read_csv('lending_data.csv')

# Review the DataFrame






# Separate the data into labels and features

# Separate the y variable, the labels
y = data['loan_status']

# Separate the X variable, the features
X = data.drop('loan_status', axis=1)


# Review the y variable Series
# YOUR CODE HERE!


# Review the X variable DataFrame
# YOUR CODE HERE!





# Import the train_test_learn module
from sklearn.model_selection import train_test_split

# Split the data using train_test_split
# Assign a random_state of 1 to the function
X_train, X_test, y_train, y_test = train_test_split(X, y, test_size=0.2, random_state=1)












# Import the LogisticRegression module from SKLearn
from sklearn.linear_model import LogisticRegression

# Instantiate the Logistic Regression model
# Assign a random_state parameter of 1 to the model
model = LogisticRegression()

# Fit the model using training data
model.fit(X_train, y_train)





# Make a prediction using the testing data
y_pred = model.predict(X_test)





# Generate a confusion matrix for the model
conf_matrix = confusion_matrix(y_test, y_pred)
class_report = classification_report(y_test, y_pred)


# Print the classification report for the model
print("Confusion Matrix:")
print(conf_matrix)
print("\nClassification Report:")
print(class_report)









